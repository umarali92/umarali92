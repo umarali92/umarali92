{
  "cells": [
    {
      "cell_type": "markdown",
      "metadata": {
        "id": "view-in-github",
        "colab_type": "text"
      },
      "source": [
        "<a href=\"https://colab.research.google.com/github/umarali92/umarali92/blob/main/Matching_With_Dropping_Condition.ipynb\" target=\"_parent\"><img src=\"https://colab.research.google.com/assets/colab-badge.svg\" alt=\"Open In Colab\"/></a>"
      ]
    },
    {
      "cell_type": "code",
      "source": [
        "import pandas as pd\n",
        "import random"
      ],
      "metadata": {
        "id": "MjdPBkw7ZEER"
      },
      "execution_count": null,
      "outputs": []
    },
    {
      "cell_type": "code",
      "source": [
        "data = pd.read_excel('TaskDataRefined.xlsx')\n",
        "data['company_category_list'] = data['company_category_list'].str.split(\",\")\n",
        "data = data[data['company_category_list'].notna()]\n",
        "dict = {}\n",
        "state_year = data.groupby(['company_state_code', 'founding_year']).count().reset_index()\n",
        "data = data.sort_values(['max_activity_b'], ascending=False)\n",
        "data['row_number'] = data.reset_index().index"
      ],
      "metadata": {
        "id": "275ZOUPjZIdA"
      },
      "execution_count": null,
      "outputs": []
    },
    {
      "cell_type": "code",
      "source": [
        "for index, row in state_year.iterrows():\n",
        "    state = row[\"company_state_code\"]\n",
        "    year = row[\"founding_year\"]\n",
        "    if state not in dict:\n",
        "        dict[state] = {}\n",
        "    if year not in dict[state]:\n",
        "        dict[state][year] = {}\n",
        "    dict[state][year] = data[(data[\"company_state_code\"] == state) & (data[\"founding_year\"] == year)]"
      ],
      "metadata": {
        "id": "oH3KxA6OZOaV"
      },
      "execution_count": null,
      "outputs": []
    },
    {
      "cell_type": "code",
      "source": [
        "visited_1 = set()\n",
        "visited_2 = set()\n",
        "identifier_1 = {}\n",
        "identifier_2 = {}\n",
        "count = 0\n",
        "\n",
        "for index, row in data.iterrows():\n",
        "    if row[\"max_activity_b\"] == 1:\n",
        "        state = row[\"company_state_code\"]\n",
        "        year = row[\"founding_year\"]\n",
        "        categories = row[\"company_category_list\"]\n",
        "        df = dict[state][year]\n",
        "        matching_companies = df[df[\"company_domain\"] != row[\"company_domain\"]]\n",
        "        matching_companies[\"number_matched\"] = [len(set(categories).intersection(set(x))) for x in matching_companies['company_category_list']]\n",
        "        group_1 = matching_companies[(matching_companies[\"number_matched\"] > 0) & (~matching_companies['company_domain'].isin(visited_1))][\"company_domain\"].values.tolist()\n",
        "        group_2 = matching_companies[(matching_companies[\"number_matched\"] > 1) & (~matching_companies['company_domain'].isin(visited_2))][\"company_domain\"].values.tolist()\n",
        "        if len(group_1) > 5:\n",
        "          Group_1 = random.choices(group_1, k = 5)\n",
        "        else:\n",
        "          Group_1 = group_1[:5]\n",
        "        visited_1.update(Group_1)\n",
        "        if len(group_2) > 5:\n",
        "          Group_2 = random.choices(group_2, k = 5)\n",
        "        else:\n",
        "          Group_2 = group_2[:5]\n",
        "        visited_2.update(Group_2)\n",
        "        data.loc[index,'group_1'] = \",\".join(Group_1)\n",
        "        data.loc[index,'group_2'] = \",\".join(Group_2)\n",
        "        identifier_1[row['company_domain']] = count\n",
        "        identifier_2[row['company_domain']] = count\n",
        "        for i in Group_1:\n",
        "          identifier_1[i] = count\n",
        "        for i in Group_2:\n",
        "          identifier_2[i] = count\n",
        "        count = count + 1"
      ],
      "metadata": {
        "id": "W2ay7CzDZTlN"
      },
      "execution_count": null,
      "outputs": []
    },
    {
      "cell_type": "code",
      "source": [
        "for index, row in data.iterrows():\n",
        "  data.loc[index, 'identifier_1'] = identifier_1[row['company_domain']] if row['company_domain'] in identifier_1 else None\n",
        "  data.loc[index, 'identifier_2'] = identifier_2[row['company_domain']] if row['company_domain'] in identifier_2 else None"
      ],
      "metadata": {
        "id": "JdtR46jWIOSe"
      },
      "execution_count": null,
      "outputs": []
    },
    {
      "cell_type": "code",
      "source": [
        "df1 = data.drop(columns=['identifier_2', 'group_2'])\n",
        "df2 = data.drop(columns=['identifier_1', 'group_1'])\n",
        "df1.to_excel(\"Group1_With_Dropping_Condition.xlsx\")\n",
        "df2.to_excel(\"Group2_With_Dropping_Condition.xlsx\")"
      ],
      "metadata": {
        "id": "oBe9kvc4Zw_s"
      },
      "execution_count": null,
      "outputs": []
    }
  ],
  "metadata": {
    "colab": {
      "provenance": [],
      "authorship_tag": "ABX9TyNlyQlY236Z2nQiaYEJbhvI",
      "include_colab_link": true
    },
    "kernelspec": {
      "display_name": "Python 3",
      "name": "python3"
    },
    "language_info": {
      "name": "python"
    }
  },
  "nbformat": 4,
  "nbformat_minor": 0
}